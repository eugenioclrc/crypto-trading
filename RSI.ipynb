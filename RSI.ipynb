{
 "cells": [
  {
   "cell_type": "markdown",
   "metadata": {},
   "source": [
    "# RSI STRATEGY\n",
    "\n",
    "The RSI is a widely used technical indicator and an oscillator that indicates a market is overbought when the RSI value is over 70 and indicates oversold conditions when RSI readings are under 30. Some traders and analysts prefer to use the more extreme readings of 80 and 20. A weakness of the RSI is that sudden, sharp price movements can cause it to spike repeatedly up or down, and, thus, it is prone to giving false signals."
   ]
  },
  {
   "cell_type": "code",
   "execution_count": 1,
   "metadata": {},
   "outputs": [],
   "source": [
    "%matplotlib inline  \n",
    "\n",
    "import pandas as pd\n",
    "import talib as tl\n",
    "import numpy as np"
   ]
  },
  {
   "cell_type": "code",
   "execution_count": 2,
   "metadata": {},
   "outputs": [],
   "source": [
    "def load(file):\n",
    "    df = pd.read_csv(file, skiprows=1)\n",
    "    return df.reindex(index=df.index[::-1]).reset_index()"
   ]
  },
  {
   "cell_type": "code",
   "execution_count": 3,
   "metadata": {},
   "outputs": [],
   "source": [
    "datasets = {\n",
    "    \"BTCUSD\": load('Bitstamp_BTCUSD_1h.csv'),\n",
    "    \"ETHUSD\": load('Bitstamp_ETHUSD_1h.csv'),\n",
    "    \"LTCUSD\": load('Bitstamp_LTCUSD_1h.csv'),\n",
    "    \"XRPUSD\": load('Bitstamp_XRPUSD_1h.csv'),\n",
    "    \"ETHBTC\": load('Binance_ETHBTC_1h.csv'),\n",
    "    \"LTCBTC\": load('Binance_LTCBTC_1h.csv'),\n",
    "    \"XMRBTC\": load('Binance_XMRBTC_1h.csv')\n",
    "}"
   ]
  },
  {
   "cell_type": "code",
   "execution_count": 4,
   "metadata": {},
   "outputs": [],
   "source": [
    "def benchRSI(df, lowRSI = 30.0, highRSI = 70.):\n",
    "    data = df.copy()\n",
    "    data['RSI'] = tl.RSI(data.Close)\n",
    "    data = data[(data.RSI < 30.) | (data.RSI > 70.)]\n",
    "\n",
    "    def advice(rsi):\n",
    "        if rsi<30:\n",
    "            #buy\n",
    "            return 'long'\n",
    "        if rsi>70:\n",
    "            #sell\n",
    "            return 'short'\n",
    "        return np.nan\n",
    "\n",
    "    data['advice'] = data['RSI'].apply(advice)\n",
    "    data['prevAdvice'] = data['advice'].shift()\n",
    "    data = data[data.prevAdvice != data.advice][['Date', 'Close', 'RSI', 'advice']]\n",
    "\n",
    "    data['enterprice'] = data.Close.shift()\n",
    "\n",
    "    if data.advice.values[0] == 'short':\n",
    "        data = data[1:]\n",
    "\n",
    "    data = data.dropna()\n",
    "    deals = data[data.advice == 'short'].copy()\n",
    "    deals['earn'] = (deals.Close - deals.enterprice) / deals.enterprice\n",
    "    data.drop(['enterprice'], axis=1)\n",
    "    return deals.earn, data"
   ]
  },
  {
   "cell_type": "code",
   "execution_count": 5,
   "metadata": {},
   "outputs": [],
   "source": [
    "results = {}\n",
    "for e in datasets:\n",
    "    roi, log = benchRSI(datasets[e])\n",
    "    results[e] = { \"roi\": roi, \"roiAvg\": roi.mean(), \"log\": log }"
   ]
  },
  {
   "cell_type": "code",
   "execution_count": 6,
   "metadata": {},
   "outputs": [
    {
     "name": "stdout",
     "output_type": "stream",
     "text": [
      "BTCUSD\n",
      "ntrades 51 , mean roi 0.0026732290726156184\n",
      "ETHUSD\n",
      "ntrades 41 , mean roi -0.035216098055810066\n",
      "LTCUSD\n",
      "ntrades 52 , mean roi 0.009105792318809352\n",
      "XRPUSD\n",
      "ntrades 50 , mean roi -0.012605270973493005\n",
      "ETHBTC\n",
      "ntrades 57 , mean roi -0.02249376560882072\n",
      "LTCBTC\n",
      "ntrades 53 , mean roi -0.006085037037699648\n",
      "XMRBTC\n",
      "ntrades 39 , mean roi 0.025003177837482283\n"
     ]
    }
   ],
   "source": [
    "for e in results:\n",
    "    print(e)\n",
    "    print('ntrades', len(results[e]['roi']), ', mean roi',results[e]['roiAvg'])"
   ]
  }
 ],
 "metadata": {
  "kernelspec": {
   "display_name": "Python 3",
   "language": "python",
   "name": "python3"
  },
  "language_info": {
   "codemirror_mode": {
    "name": "ipython",
    "version": 3
   },
   "file_extension": ".py",
   "mimetype": "text/x-python",
   "name": "python",
   "nbconvert_exporter": "python",
   "pygments_lexer": "ipython3",
   "version": "3.7.3"
  }
 },
 "nbformat": 4,
 "nbformat_minor": 2
}
